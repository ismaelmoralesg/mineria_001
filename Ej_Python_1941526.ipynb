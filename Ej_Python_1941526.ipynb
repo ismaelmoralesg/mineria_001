{
  "nbformat": 4,
  "nbformat_minor": 0,
  "metadata": {
    "colab": {
      "name": "Ej_Python_1941526",
      "provenance": [],
      "authorship_tag": "ABX9TyOFqydc8LLC8cFuGDk/v23w",
      "include_colab_link": true
    },
    "kernelspec": {
      "name": "python3",
      "display_name": "Python 3"
    },
    "language_info": {
      "name": "python"
    }
  },
  "cells": [
    {
      "cell_type": "markdown",
      "metadata": {
        "id": "view-in-github",
        "colab_type": "text"
      },
      "source": [
        "<a href=\"https://colab.research.google.com/github/ismaelmoralesg/mineria_001/blob/main/Ej_Python_1941526.ipynb\" target=\"_parent\"><img src=\"https://colab.research.google.com/assets/colab-badge.svg\" alt=\"Open In Colab\"/></a>"
      ]
    },
    {
      "cell_type": "markdown",
      "metadata": {
        "id": "q-kUoXBKUlHB"
      },
      "source": [
        "***Ejercicio 1***"
      ]
    },
    {
      "cell_type": "code",
      "metadata": {
        "colab": {
          "base_uri": "https://localhost:8080/"
        },
        "id": "Aw0-3alZUqQX",
        "outputId": "8b94a2d0-c49b-4848-dd33-e1e679d6ade7"
      },
      "source": [
        "Mat = '1941526'\n",
        "nombre = 'Ismael'\n",
        "print (nombre,Mat)"
      ],
      "execution_count": 2,
      "outputs": [
        {
          "output_type": "stream",
          "text": [
            "Ismael 1941526\n"
          ],
          "name": "stdout"
        }
      ]
    },
    {
      "cell_type": "markdown",
      "metadata": {
        "id": "mIMTYnOUWQYX"
      },
      "source": [
        "## ***Ejercicio 2***"
      ]
    },
    {
      "cell_type": "code",
      "metadata": {
        "colab": {
          "base_uri": "https://localhost:8080/"
        },
        "id": "TzT7dPwbWYx9",
        "outputId": "bfdd6c00-9326-4461-edb3-dafd6154802a"
      },
      "source": [
        "print(\"inserte dos numeros\")\n",
        "x= int(input(\"Introduce el 1er numero:\"))\n",
        "y= int(input(\"Introduce el 2do numero:\"))\n",
        "print(\"1 suma 2 resta 3 division 4 multiplicacion\")\n",
        "a= int(input(\"elige el numero del calculo a realizar: \"))\n",
        "\n",
        "while a==1:\n",
        "  r= x+y\n",
        "  print(\"el resultado de la suma es: \", r)\n",
        "  break\n",
        "while a==2:\n",
        "  r= x-y\n",
        "  print(\"el resultado de la resta es: \", r)  \n",
        "  break\n",
        "while a==3:\n",
        "  r= x/y\n",
        "  print(\"el resultado de la division es: \", r)\n",
        "  break  \n",
        "while a==4:\n",
        "  r=x*y\n",
        "  print(\"el resultado de la multiplicacion es:\", r)\n",
        "  break\n",
        "  \n",
        "\n",
        "\n"
      ],
      "execution_count": 19,
      "outputs": [
        {
          "output_type": "stream",
          "text": [
            "inserte dos numeros\n",
            "Introduce el 1er numero:3\n",
            "Introduce el 2do numero:4\n",
            "1 suma 2 resta 3 division 4 multiplicacion\n",
            "elige el numero del calculo a realizar: 3\n",
            "el resultado de la division es:  0.75\n"
          ],
          "name": "stdout"
        }
      ]
    },
    {
      "cell_type": "markdown",
      "metadata": {
        "id": "PYkBlMPIbcLj"
      },
      "source": [
        "## ***Ejercicio 3***"
      ]
    },
    {
      "cell_type": "code",
      "metadata": {
        "colab": {
          "base_uri": "https://localhost:8080/"
        },
        "id": "xg07Ok0OboYv",
        "outputId": "99803732-8df1-4302-b3c5-f4fad582d7e9"
      },
      "source": [
        "multiplos=[0,0,0,0,0,0,0,0,0,0]\n",
        "for i in range(0,10):\n",
        "  multiplos[i] = (i+1)*3\n",
        "print(multiplos)\n",
        "\n",
        "sum=0\n",
        "for i in range(0,10):\n",
        "  sum=sum+multiplos[i]\n",
        "print(\"La suma de todos los multiplos es:\",sum)"
      ],
      "execution_count": 21,
      "outputs": [
        {
          "output_type": "stream",
          "text": [
            "[3, 6, 9, 12, 15, 18, 21, 24, 27, 30]\n",
            "La suma de todos los multiplos es: 165\n"
          ],
          "name": "stdout"
        }
      ]
    },
    {
      "cell_type": "markdown",
      "metadata": {
        "id": "NDvvXFRrgxwX"
      },
      "source": [
        "## ***Ejercicio 4***"
      ]
    },
    {
      "cell_type": "code",
      "metadata": {
        "colab": {
          "base_uri": "https://localhost:8080/"
        },
        "id": "F_QksBl-g1Lv",
        "outputId": "1ebde7fe-3e0f-4179-a2e6-2c3dc70c0fc2"
      },
      "source": [
        "num = input(\"Introduce un número: \")\n",
        "num = int(num)\n",
        "if num == 0:\n",
        "    print (\"El número\", num, \"es par.\")\n",
        "elif num%2 == 0:\n",
        "    print (\"El numero\",num, \"es par\")\n",
        "else:\n",
        "    print (\"El numero\", num,\"es impar\")\n"
      ],
      "execution_count": 22,
      "outputs": [
        {
          "output_type": "stream",
          "text": [
            "Introduce un número: 7\n",
            "El numero 7 es impar\n"
          ],
          "name": "stdout"
        }
      ]
    },
    {
      "cell_type": "code",
      "metadata": {
        "colab": {
          "base_uri": "https://localhost:8080/"
        },
        "id": "U4G0jPI7g5n4",
        "outputId": "c177b7f3-5cc4-4ea6-f608-443b2a83abe5"
      },
      "source": [
        "\n",
        "x= int(input(\"Introduce un número: \" ))\n",
        "i=0\n",
        "num=0\n",
        "for i in range(2,x):\n",
        "    if x%i==0:\n",
        "        num=num+1\n",
        "if num==0:\n",
        "    print('El numero que ingreso es primo')\n",
        "else:\n",
        "    print('El numero que ingreso no es primo')"
      ],
      "execution_count": 37,
      "outputs": [
        {
          "output_type": "stream",
          "text": [
            "Introduce un número: 29\n",
            "El numero que ingreso es primo\n"
          ],
          "name": "stdout"
        }
      ]
    },
    {
      "cell_type": "markdown",
      "metadata": {
        "id": "Bl5wTnkxjOiL"
      },
      "source": [
        "## ***Ejercicio 5***"
      ]
    },
    {
      "cell_type": "code",
      "metadata": {
        "colab": {
          "base_uri": "https://localhost:8080/"
        },
        "id": "uTxqMHDEjRZs",
        "outputId": "c8a6886c-7450-4404-e759-91b8841bdea3"
      },
      "source": [
        "import math as m\n",
        "print(\"Bienvenido, para salir pulse 6\")\n",
        "a=0\n",
        "b=0\n",
        "c=0\n",
        "d=0\n",
        "while a!=5:\n",
        "    a=int(input('Ingresa una opción:\\n0. Suma\\n1. Resta\\n2. Multiplicación\\n3. División\\n4. Potencia\\n5. Salir\\n\\nOpcion:'))\n",
        "    if a<0 or a>6:\n",
        "        a=int(input(\"Error \"))\n",
        "    if a==0:\n",
        "        b=float(input(\"Ingresa un número: \"))\n",
        "        c=float(input(\"Ingresa otro número: \"))\n",
        "        d=b+c\n",
        "        print(\"La suma de los números es: \",d)\n",
        "    if a==1:\n",
        "        b=float(input(\"Ingresa un número: \"))\n",
        "        c=float(input(\"Ingresa otro número: \"))\n",
        "        d=b-c\n",
        "        print(\"La resta de los números es: \",d)\n",
        "    if a==2:\n",
        "        b=float(input(\"Ingresa un número: \"))\n",
        "        c=float(input(\"Ingresa otro número: \"))\n",
        "        d=b*c\n",
        "        print(\"La multiplicacion de los números es: \",d)\n",
        "    if a==3:\n",
        "        b=float(input(\"Ingresa un número: \"))\n",
        "        c=float(input(\"Ingresa otro número: \"))\n",
        "        d=b/c\n",
        "        print(\"La division de los números es: \",d)\n",
        "    if a==4:\n",
        "        b=float(input(\"Ingresa un número: \"))\n",
        "        c=float(input(\"Ingresa otro número: \"))\n",
        "        d=b**c\n",
        "        print('El primer numero elevado al segundo numero es:',d)\n",
        "print(\"Gracias\")310\n"
      ],
      "execution_count": 39,
      "outputs": [
        {
          "output_type": "stream",
          "text": [
            "Bienvenido, para salir pulse 6\n",
            "Ingresa una opción:\n",
            "0. Suma\n",
            "1. Resta\n",
            "2. Multiplicación\n",
            "3. División\n",
            "4. Potencia\n",
            "5. Salir\n",
            "\n",
            "Opcion:6\n",
            "Ingresa una opción:\n",
            "0. Suma\n",
            "1. Resta\n",
            "2. Multiplicación\n",
            "3. División\n",
            "4. Potencia\n",
            "5. Salir\n",
            "\n",
            "Opcion:0\n",
            "Ingresa un número: 2\n",
            "Ingresa otro número: 3\n",
            "La suma de los números es:  5.0\n",
            "Ingresa una opción:\n",
            "0. Suma\n",
            "1. Resta\n",
            "2. Multiplicación\n",
            "3. División\n",
            "4. Potencia\n",
            "5. Salir\n",
            "\n",
            "Opcion:1\n",
            "Ingresa un número: 3\n",
            "Ingresa otro número: 2\n",
            "La resta de los números es:  1.0\n",
            "Ingresa una opción:\n",
            "0. Suma\n",
            "1. Resta\n",
            "2. Multiplicación\n",
            "3. División\n",
            "4. Potencia\n",
            "5. Salir\n",
            "\n",
            "Opcion:2\n",
            "Ingresa un número: 12\n",
            "Ingresa otro número: 3\n",
            "La multiplicacion de los números es:  36.0\n",
            "Ingresa una opción:\n",
            "0. Suma\n",
            "1. Resta\n",
            "2. Multiplicación\n",
            "3. División\n",
            "4. Potencia\n",
            "5. Salir\n",
            "\n",
            "Opcion:4\n",
            "Ingresa un número: 42\n",
            "Ingresa otro número: 7\n",
            "El primer numero elevado al segundo numero es: 230539333248.0\n",
            "Ingresa una opción:\n",
            "0. Suma\n",
            "1. Resta\n",
            "2. Multiplicación\n",
            "3. División\n",
            "4. Potencia\n",
            "5. Salir\n",
            "\n",
            "Opcion:3\n",
            "Ingresa un número: 100\n",
            "Ingresa otro número: 10\n",
            "La division de los números es:  10.0\n",
            "Ingresa una opción:\n",
            "0. Suma\n",
            "1. Resta\n",
            "2. Multiplicación\n",
            "3. División\n",
            "4. Potencia\n",
            "5. Salir\n",
            "\n",
            "Opcion:5\n",
            "Gracias\n"
          ],
          "name": "stdout"
        }
      ]
    },
    {
      "cell_type": "markdown",
      "metadata": {
        "id": "I6FYWS0AlemT"
      },
      "source": [
        "## ***Ejercicios con estructuras basicas de python***"
      ]
    },
    {
      "cell_type": "code",
      "metadata": {
        "colab": {
          "base_uri": "https://localhost:8080/"
        },
        "id": "5lKsigD2lnmv",
        "outputId": "11a2ccb8-3c13-4906-aa1a-2f27e59e6f74"
      },
      "source": [
        "f= 2.54\n",
        "i=5\n",
        "b= True\n",
        "c= 25j\n",
        "print(\"f es del tipo: {}\".format(type(f)))\n",
        "print(\"i es del tipo: {}\".format(type(i)))\n",
        "print(\"b es del tipo: {}\".format(type(b)))\n",
        "print(\"c es del tipo: {}\".format(type(c)))\n",
        "\n"
      ],
      "execution_count": 40,
      "outputs": [
        {
          "output_type": "stream",
          "text": [
            "f es del tipo: <class 'float'>\n",
            "i es del tipo: <class 'int'>\n",
            "b es del tipo: <class 'bool'>\n",
            "c es del tipo: <class 'complex'>\n"
          ],
          "name": "stdout"
        }
      ]
    },
    {
      "cell_type": "code",
      "metadata": {
        "colab": {
          "base_uri": "https://localhost:8080/"
        },
        "id": "F9ycibfPp63V",
        "outputId": "ae783d19-d35c-4d67-b812-d3f07560c7ae"
      },
      "source": [
        "t=(23,5,31,2,43,90,25,81,9,10)\n",
        "print(\"el primer valor es {} y el ultimo es {}\".format(t[0],t[-1]))"
      ],
      "execution_count": 42,
      "outputs": [
        {
          "output_type": "stream",
          "text": [
            "el primer valor es 23 y el ultimo es 10\n"
          ],
          "name": "stdout"
        }
      ]
    },
    {
      "cell_type": "code",
      "metadata": {
        "colab": {
          "base_uri": "https://localhost:8080/"
        },
        "id": "CoZ2lLNmrYnu",
        "outputId": "bd924864-2dc7-4ce1-f594-a4b1f276ddb9"
      },
      "source": [
        "t=t+(\"Bienvenido\", \"a\", \"NY\")\n",
        "print(t)"
      ],
      "execution_count": 43,
      "outputs": [
        {
          "output_type": "stream",
          "text": [
            "(23, 5, 31, 2, 43, 90, 25, 81, 9, 10, 'Bienvenido', 'a', 'NY')\n"
          ],
          "name": "stdout"
        }
      ]
    },
    {
      "cell_type": "code",
      "metadata": {
        "colab": {
          "base_uri": "https://localhost:8080/"
        },
        "id": "mODLhsrL2Fc9",
        "outputId": "1dc0898c-ca67-4f07-c6e3-ac0e56bce273"
      },
      "source": [
        "Search= int(input(\"ingrese el elemento que desea buscar: \"))\n",
        "\n",
        "a= Search in t\n",
        "if a== True:\n",
        "  print(\"el elemento {} se encuentra en la tupla\".format(Search))\n",
        "else:\n",
        "  print(\"el elemento {} no se encuentra en la tupla\".format(Search))\n"
      ],
      "execution_count": 46,
      "outputs": [
        {
          "output_type": "stream",
          "text": [
            "ingrese el elemento que desea buscar: 24\n",
            "el elemento 24 no se encuentra en la tupla\n"
          ],
          "name": "stdout"
        }
      ]
    },
    {
      "cell_type": "markdown",
      "metadata": {
        "id": "n4v9ftCU2q1t"
      },
      "source": [
        "## ***Listas***"
      ]
    },
    {
      "cell_type": "code",
      "metadata": {
        "colab": {
          "base_uri": "https://localhost:8080/"
        },
        "id": "WdAwhJCj2tBi",
        "outputId": "b9e8ba7c-6af4-4138-8633-73b2f2174e60"
      },
      "source": [
        "import random\n",
        "Y= range(1,500)\n",
        "L1= random.sample(Y,40)\n",
        "print(L1)"
      ],
      "execution_count": 47,
      "outputs": [
        {
          "output_type": "stream",
          "text": [
            "[471, 448, 305, 282, 81, 166, 386, 109, 284, 439, 395, 406, 415, 334, 472, 70, 473, 182, 281, 491, 332, 186, 404, 442, 458, 138, 354, 141, 323, 311, 309, 412, 1, 11, 247, 183, 35, 115, 187, 249]\n"
          ],
          "name": "stdout"
        }
      ]
    },
    {
      "cell_type": "code",
      "metadata": {
        "colab": {
          "base_uri": "https://localhost:8080/"
        },
        "id": "8lQfhGGB2_sQ",
        "outputId": "95a87e93-dc3a-477b-a789-36ac19d9e9b2"
      },
      "source": [
        "import random\n",
        "lista=[]\n",
        "i=1\n",
        "while i<=40:\n",
        "  lista.append(random.randint(1,100))\n",
        "  i=i+1\n",
        "class f: #Función\n",
        "  def parimp(Alista): #Par e impar ;Alista=Agregar lista\n",
        "    npares=[] #npares= números pares\n",
        "    nimpares=[] #nimpares= números impares\n",
        "    j=0\n",
        "    while j<=len(Alista)-1:\n",
        "      if Alista[j]%2==0:\n",
        "        npares.append(Alista[j])\n",
        "      else:\n",
        "        nimpares.append(Alista[j])\n",
        "      j=j+1\n",
        "    print(\"\\nNúmeros pares: \",npares)\n",
        "    print(\"\\nNúmeros impares: \",nimpares)\n",
        "f.parimp(lista)"
      ],
      "execution_count": 48,
      "outputs": [
        {
          "output_type": "stream",
          "text": [
            "\n",
            "Números pares:  [30, 98, 92, 84, 44, 30, 98, 12, 18, 2, 92, 62, 60, 60, 84, 84, 76, 88, 54, 70]\n",
            "\n",
            "Números impares:  [45, 25, 83, 31, 89, 21, 65, 99, 73, 41, 69, 5, 61, 5, 47, 79, 1, 69, 77, 19]\n"
          ],
          "name": "stdout"
        }
      ]
    },
    {
      "cell_type": "code",
      "metadata": {
        "colab": {
          "base_uri": "https://localhost:8080/",
          "height": 195
        },
        "id": "aGSRHLbc3phX",
        "outputId": "e579b1f2-ec82-4496-fd7f-3a41ebf979e8"
      },
      "source": [
        ""
      ],
      "execution_count": 49,
      "outputs": [
        {
          "output_type": "error",
          "ename": "NameError",
          "evalue": "ignored",
          "traceback": [
            "\u001b[0;31m---------------------------------------------------------------------------\u001b[0m",
            "\u001b[0;31mNameError\u001b[0m                                 Traceback (most recent call last)",
            "\u001b[0;32m<ipython-input-49-18b9204f9c85>\u001b[0m in \u001b[0;36m<module>\u001b[0;34m()\u001b[0m\n\u001b[0;32m----> 1\u001b[0;31m \u001b[0mpar\u001b[0m\u001b[0;34m=\u001b[0m\u001b[0mlen\u001b[0m\u001b[0;34m(\u001b[0m\u001b[0mnpares\u001b[0m\u001b[0;34m)\u001b[0m\u001b[0;34m\u001b[0m\u001b[0;34m\u001b[0m\u001b[0m\n\u001b[0m\u001b[1;32m      2\u001b[0m \u001b[0mimpar\u001b[0m\u001b[0;34m=\u001b[0m\u001b[0mlen\u001b[0m\u001b[0;34m(\u001b[0m\u001b[0mnimpares\u001b[0m\u001b[0;34m)\u001b[0m\u001b[0;34m\u001b[0m\u001b[0;34m\u001b[0m\u001b[0m\n\u001b[1;32m      3\u001b[0m \u001b[0mprint\u001b[0m\u001b[0;34m(\u001b[0m\u001b[0;34m\"pares:\"\u001b[0m\u001b[0;34m,\u001b[0m\u001b[0mpar\u001b[0m\u001b[0;34m,\u001b[0m\u001b[0;34m\"impares:\"\u001b[0m\u001b[0;34m,\u001b[0m\u001b[0mimpar\u001b[0m\u001b[0;34m)\u001b[0m\u001b[0;34m\u001b[0m\u001b[0;34m\u001b[0m\u001b[0m\n",
            "\u001b[0;31mNameError\u001b[0m: name 'npares' is not defined"
          ]
        }
      ]
    },
    {
      "cell_type": "code",
      "metadata": {
        "colab": {
          "base_uri": "https://localhost:8080/"
        },
        "id": "VBIV2bQu4HdG",
        "outputId": "9aa0b7c3-650a-4322-e612-2e42caef57a8"
      },
      "source": [
        "Diccionario={\"Ismael\":21, \"Jack\":19, \"Maria\":21, \"Habib\":23, \"David\":26, \"Chris\":23}\n",
        "print(Diccionario)"
      ],
      "execution_count": 55,
      "outputs": [
        {
          "output_type": "stream",
          "text": [
            "{'Ismael': 21, 'Jack': 19, 'Maria': 21, 'Habib': 23, 'David': 26, 'Chris': 23}\n"
          ],
          "name": "stdout"
        }
      ]
    },
    {
      "cell_type": "code",
      "metadata": {
        "colab": {
          "base_uri": "https://localhost:8080/"
        },
        "id": "eOg-MQFd5Icb",
        "outputId": "5d02ab90-d11b-4cbc-e5ad-71e79f1389ed"
      },
      "source": [
        "edad=list(Diccionario.values())\n",
        "edad.sort()\n",
        "print(edad)"
      ],
      "execution_count": 57,
      "outputs": [
        {
          "output_type": "stream",
          "text": [
            "[19, 21, 21, 23, 23, 26]\n"
          ],
          "name": "stdout"
        }
      ]
    },
    {
      "cell_type": "code",
      "metadata": {
        "colab": {
          "base_uri": "https://localhost:8080/"
        },
        "id": "ahUQKjwz5a-U",
        "outputId": "714129d7-4bc3-43ce-d4d4-f947aba16020"
      },
      "source": [
        "Nombres= Diccionario.keys()\n",
        "for j in Diccionario:\n",
        "  print(j)"
      ],
      "execution_count": 58,
      "outputs": [
        {
          "output_type": "stream",
          "text": [
            "Ismael\n",
            "Jack\n",
            "Maria\n",
            "Habib\n",
            "David\n",
            "Chris\n"
          ],
          "name": "stdout"
        }
      ]
    },
    {
      "cell_type": "code",
      "metadata": {
        "colab": {
          "base_uri": "https://localhost:8080/"
        },
        "id": "uZWbaGQL7pWG",
        "outputId": "e1dc0c4f-0dc1-4468-d9cb-aeabdbc44fdc"
      },
      "source": [
        "Diccionario[\"Gabriela\"]=21\n",
        "Diccionario[\"Phil\"]=18\n",
        "print(Diccionario)"
      ],
      "execution_count": 61,
      "outputs": [
        {
          "output_type": "stream",
          "text": [
            "{'Ismael': 21, 'Jack': 19, 'Maria': 21, 'Habib': 23, 'David': 26, 'Chris': 23, 'Gabriela': 21, 'Phil': 18}\n"
          ],
          "name": "stdout"
        }
      ]
    },
    {
      "cell_type": "markdown",
      "metadata": {
        "id": "CRN1XbMf8BNO"
      },
      "source": [
        "## ***SETS***"
      ]
    },
    {
      "cell_type": "code",
      "metadata": {
        "colab": {
          "base_uri": "https://localhost:8080/"
        },
        "id": "wKRjxBt28DeQ",
        "outputId": "6ac0a452-4632-4fda-df2e-67dfa723d63d"
      },
      "source": [
        "x= set()\n",
        "for i in range (100):\n",
        "  x.add(random.randint(1,25))\n",
        "print(x)"
      ],
      "execution_count": 67,
      "outputs": [
        {
          "output_type": "stream",
          "text": [
            "{1, 2, 3, 4, 5, 6, 7, 8, 9, 10, 11, 12, 13, 14, 15, 16, 17, 18, 19, 20, 21, 22, 23, 24, 25}\n"
          ],
          "name": "stdout"
        }
      ]
    },
    {
      "cell_type": "code",
      "metadata": {
        "colab": {
          "base_uri": "https://localhost:8080/"
        },
        "id": "BpDVmL3X8bcj",
        "outputId": "4c53bc65-2181-4797-d3e2-692ebf68394b"
      },
      "source": [
        "len(x)"
      ],
      "execution_count": 68,
      "outputs": [
        {
          "output_type": "execute_result",
          "data": {
            "text/plain": [
              "25"
            ]
          },
          "metadata": {},
          "execution_count": 68
        }
      ]
    },
    {
      "cell_type": "code",
      "metadata": {
        "colab": {
          "base_uri": "https://localhost:8080/",
          "height": 128
        },
        "id": "BLb9IQTA84TW",
        "outputId": "b028337d-bdd8-45e9-b44a-00a8b0b54099"
      },
      "source": [
        "y=[random.randint(1,10) for _ in range(5)]\n",
        "for i in range(0,10):\n",
        "    if y[i] in a:\n",
        "    print(\"El elemento \",y[i], \"se encuentra en el conjunto\")\n"
      ],
      "execution_count": 77,
      "outputs": [
        {
          "output_type": "error",
          "ename": "IndentationError",
          "evalue": "ignored",
          "traceback": [
            "\u001b[0;36m  File \u001b[0;32m\"<ipython-input-77-86ae6f933274>\"\u001b[0;36m, line \u001b[0;32m4\u001b[0m\n\u001b[0;31m    print(\"El elemento \",y[i], \"se encuentra en el conjunto\")\u001b[0m\n\u001b[0m        ^\u001b[0m\n\u001b[0;31mIndentationError\u001b[0m\u001b[0;31m:\u001b[0m expected an indented block\n"
          ]
        }
      ]
    }
  ]
}